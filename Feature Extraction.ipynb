{
 "cells": [
  {
   "cell_type": "markdown",
   "id": "e5275b77-fde9-46ca-9dd9-b1c2050289bf",
   "metadata": {},
   "source": [
    "Feature Extraction"
   ]
  },
  {
   "cell_type": "code",
   "execution_count": 1,
   "id": "c1a188dd-3df9-4c3d-8432-1a8f81592e73",
   "metadata": {},
   "outputs": [],
   "source": [
    "from urllib.parse import urlparse,urlencode\r\n",
    "import ipaddress\r\n",
    "import re\r\n",
    "     "
   ]
  },
  {
   "cell_type": "markdown",
   "id": "f4d956a4-25ce-4ff7-b318-18a79245038a",
   "metadata": {},
   "source": [
    "3.1 IP Address in the URL\n",
    "Checks for the presence of IP address in the URL. URLs may have IP address instead of domain name. If an IP address is used as an alternative of the domain name in the URL, we can be sure that someone is trying to steal personal information with this URL.\n",
    "\n",
    "If the domain part of URL has IP address, the value assigned to this feature is 1 (phishing) or else 0 (legitimate).\n",
    "\n",
    "re.search() function is used to search for specific patters in a url."
   ]
  },
  {
   "cell_type": "code",
   "execution_count": 3,
   "id": "e2172ada-915f-44e7-9f0c-68ab6e01b3e8",
   "metadata": {},
   "outputs": [],
   "source": [
    "def has_ip_address(url):\n",
    "    # Regular expression pattern to match IPv4 addresses\n",
    "    ipv4_pattern = r'\\b(?:\\d{1,3}\\.){3}\\d{1,3}\\b'\n",
    "    \n",
    "    # Regular expression pattern to match IPv6 addresses\n",
    "    ipv6_pattern = r'\\b(?:[A-F0-9]{1,4}:){7}[A-F0-9]{1,4}\\b'\n",
    "    \n",
    "    # Search for IPv4 and IPv6 patterns in the URL\n",
    "    has_ipv4 = re.search(ipv4_pattern, url) is not None\n",
    "    has_ipv6 = re.search(ipv6_pattern, url) is not None\n",
    "    \n",
    "    # Return True if either IPv4 or IPv6 address is found in the URL\n",
    "    if (has_ipv4 | has_ipv6):\n",
    "        ip = 1 #has ip address\n",
    "    else:\n",
    "        ip = 0 #doesn't have ip address\n",
    "    \n",
    "    return ip"
   ]
  },
  {
   "cell_type": "markdown",
   "id": "493681e0-bded-4952-b183-8cad2e847b70",
   "metadata": {},
   "source": [
    "3.2 Checking the length of the URL\n",
    "\n",
    "if length of URL >= 54 then assigning it a value of 1 (phishing) else 0 (benign)"
   ]
  },
  {
   "cell_type": "code",
   "execution_count": 4,
   "id": "170f8534-dfbd-48e4-9a2d-50ff49e37735",
   "metadata": {},
   "outputs": [],
   "source": [
    "def length(url):\n",
    "    if len(url) < 54:\n",
    "        len = 0\n",
    "    else:\n",
    "        len = 1\n",
    "    return len"
   ]
  },
  {
   "cell_type": "markdown",
   "id": "b8ba68f9-a8f9-439a-9bee-be1ee06b64aa",
   "metadata": {},
   "source": [
    "3.3 If there is a @ in a url, everything after the @ is ignored by the browser\n",
    "We assign at a value of 1 (phishing) if the url has @ else 0 (benign)"
   ]
  },
  {
   "cell_type": "code",
   "execution_count": 6,
   "id": "5913b337-158d-43ca-bda2-40940c35fea8",
   "metadata": {},
   "outputs": [],
   "source": [
    "def checkAtSign(url):\n",
    "    if \"@\" in url:\n",
    "        at = 1\n",
    "    else:\n",
    "        at = 0\n",
    "    return at"
   ]
  },
  {
   "cell_type": "markdown",
   "id": "59544765-3a61-44fa-80fe-192957f75455",
   "metadata": {},
   "source": [
    "3.4 Domain Age: Phishing websites often have recently registered domains, while legitimate websites tend to have older domains. You can determine the age of the domain using WHOIS data and include it as a feature."
   ]
  },
  {
   "cell_type": "code",
   "execution_count": 20,
   "id": "0df96869-4ddf-47f3-be68-0e7dd4f1f220",
   "metadata": {},
   "outputs": [
    {
     "name": "stdout",
     "output_type": "stream",
     "text": [
      "Requirement already satisfied: python-whois in c:\\users\\user\\anaconda3\\lib\\site-packages (0.9.4)\n",
      "Requirement already satisfied: python-dateutil in c:\\users\\user\\anaconda3\\lib\\site-packages (from python-whois) (2.8.2)\n",
      "Requirement already satisfied: six>=1.5 in c:\\users\\user\\anaconda3\\lib\\site-packages (from python-dateutil->python-whois) (1.16.0)\n"
     ]
    }
   ],
   "source": [
    "!pip install python-whois\n",
    "from datetime import datetime \n",
    "import whois\n"
   ]
  },
  {
   "cell_type": "code",
   "execution_count": 19,
   "id": "9dab34c9-aead-4a79-9405-f6f937c3d299",
   "metadata": {},
   "outputs": [],
   "source": [
    "def calc_domain_age(url, threshold=30):\n",
    "    try:\n",
    "        domain_information = whois.whois(domain)\n",
    "        creation_date = domain_information.creation_date\n",
    "        if isinstance(creation_date, list):\n",
    "            creation_date = creation_date[0]\n",
    "            \n",
    "        if creation_date:\n",
    "            current_date = datetime.now()\n",
    "            domain_age = (current_date - creation_date).days\n",
    "        else:\n",
    "            domain_age = None\n",
    "\n",
    "        if domain_age and domain_age <= threshold:\n",
    "            recent_domain = 1\n",
    "        else:\n",
    "            recent_domain = 0\n",
    "        return recent_domain\n",
    "        \n",
    "    except:\n",
    "        return 0"
   ]
  },
  {
   "cell_type": "markdown",
   "id": "2dee3fbf-cbd9-4e3e-afdb-3fc3c7ed68f2",
   "metadata": {},
   "source": [
    "3.5 URL shortening\n",
    "URL shortening is a method on the “World Wide Web” in which a URL may be made considerably smaller in length and still lead to the required webpage. \n",
    "\n",
    "If the URL is using Shortening Services, the value assigned to this feature is 1 (phishing) or else 0 (legitimate)."
   ]
  },
  {
   "cell_type": "code",
   "execution_count": 23,
   "id": "0b639106-07ef-4ea8-b385-5f4b9172b5fa",
   "metadata": {},
   "outputs": [],
   "source": [
    "#listing shortening services\n",
    "shortening_services = r\"bit\\.ly|goo\\.gl|shorte\\.st|go2l\\.ink|x\\.co|ow\\.ly|t\\.co|tinyurl|tr\\.im|is\\.gd|cli\\.gs|\" \\\n",
    "                      r\"yfrog\\.com|migre\\.me|ff\\.im|tiny\\.cc|url4\\.eu|twit\\.ac|su\\.pr|twurl\\.nl|snipurl\\.com|\" \\\n",
    "                      r\"short\\.to|BudURL\\.com|ping\\.fm|post\\.ly|Just\\.as|bkite\\.com|snipr\\.com|fic\\.kr|loopt\\.us|\" \\\n",
    "                      r\"doiop\\.com|short\\.ie|kl\\.am|wp\\.me|rubyurl\\.com|om\\.ly|to\\.ly|bit\\.do|t\\.co|lnkd\\.in|db\\.tt|\" \\\n",
    "                      r\"qr\\.ae|adf\\.ly|goo\\.gl|bitly\\.com|cur\\.lv|tinyurl\\.com|ow\\.ly|bit\\.ly|ity\\.im|q\\.gs|is\\.gd|\" \\\n",
    "                      r\"po\\.st|bc\\.vc|twitthis\\.com|u\\.to|j\\.mp|buzurl\\.com|cutt\\.us|u\\.bb|yourls\\.org|x\\.co|\" \\\n",
    "                      r\"prettylinkpro\\.com|scrnch\\.me|filoops\\.info|vzturl\\.com|qr\\.net|1url\\.com|tweez\\.me|v\\.gd|\" \\\n",
    "                      r\"tr\\.im|link\\.zip\\.net\""
   ]
  },
  {
   "cell_type": "code",
   "execution_count": 24,
   "id": "92a7de69-edd2-48f7-acb7-3f1e2e2e4589",
   "metadata": {},
   "outputs": [],
   "source": [
    "def check_shortening(url):\n",
    "    match = re.search(shortening_services, url)\n",
    "    if match:\n",
    "        return 1\n",
    "    else:\n",
    "        return 0"
   ]
  },
  {
   "cell_type": "code",
   "execution_count": 25,
   "id": "e7df41e5-488d-4084-830d-c73558bb2236",
   "metadata": {},
   "outputs": [],
   "source": [
    "import re\n",
    "from bs4 import BeautifulSoup\n",
    "import whois\n",
    "import urllib\n",
    "import urllib.request\n",
    "from datetime import datetime"
   ]
  },
  {
   "cell_type": "markdown",
   "id": "1d28de3f-1155-42c1-b9ee-f913eb26124f",
   "metadata": {},
   "source": [
    "3.6 Web traffic\n",
    "Phishing websites usually live for a short period of time; they may not be recognised by the Alexa database. \n",
    "\n",
    "For our model, if the domain has no traffic or is not recognized by the Alexa database, it is classified as “Phishing”.\n"
   ]
  },
  {
   "cell_type": "code",
   "execution_count": null,
   "id": "0e6972ad-7df9-4bd3-9035-67ad6f967666",
   "metadata": {},
   "outputs": [],
   "source": [
    "def web_traffic(url):\n",
    "  try:\n",
    "    #Filling the whitespaces in the URL if any\n",
    "    url = urllib.parse.quote(url)\n",
    "    rank = BeautifulSoup(urllib.request.urlopen(\"http://data.alexa.com/data?cli=10&dat=s&url=\" + url).read(), \"xml\").find(\n",
    "        \"REACH\")['RANK']\n",
    "    rank = int(rank)\n",
    "  except TypeError:\n",
    "        return 1\n",
    "  if rank <100000:\n",
    "    return 1\n",
    "  else:\n",
    "    return 0"
   ]
  },
  {
   "cell_type": "code",
   "execution_count": null,
   "id": "fc8d22af-a045-4784-b85c-51899a3c8151",
   "metadata": {},
   "outputs": [],
   "source": []
  }
 ],
 "metadata": {
  "kernelspec": {
   "display_name": "Python 3 (ipykernel)",
   "language": "python",
   "name": "python3"
  },
  "language_info": {
   "codemirror_mode": {
    "name": "ipython",
    "version": 3
   },
   "file_extension": ".py",
   "mimetype": "text/x-python",
   "name": "python",
   "nbconvert_exporter": "python",
   "pygments_lexer": "ipython3",
   "version": "3.11.7"
  }
 },
 "nbformat": 4,
 "nbformat_minor": 5
}
