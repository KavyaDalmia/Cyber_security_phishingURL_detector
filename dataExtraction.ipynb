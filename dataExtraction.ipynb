{
 "cells": [
  {
   "cell_type": "code",
   "execution_count": 1,
   "id": "2a025bac-100a-4939-90ea-c33a2f0b0ce6",
   "metadata": {},
   "outputs": [],
   "source": [
    "import pandas as pd\n"
   ]
  },
  {
   "cell_type": "code",
   "execution_count": 3,
   "id": "53865559-c086-4d6a-bb3f-1ad0dedcbc58",
   "metadata": {},
   "outputs": [],
   "source": [
    "dataset1 = pd.read_csv(\"malicious_phish.csv\")\n",
    "dataset2 = pd.read_csv(\"verified_online.csv\")"
   ]
  },
  {
   "cell_type": "code",
   "execution_count": 5,
   "id": "37a35779-77d1-43bd-b10d-c47d8c399d87",
   "metadata": {},
   "outputs": [
    {
     "data": {
      "text/html": [
       "<div>\n",
       "<style scoped>\n",
       "    .dataframe tbody tr th:only-of-type {\n",
       "        vertical-align: middle;\n",
       "    }\n",
       "\n",
       "    .dataframe tbody tr th {\n",
       "        vertical-align: top;\n",
       "    }\n",
       "\n",
       "    .dataframe thead th {\n",
       "        text-align: right;\n",
       "    }\n",
       "</style>\n",
       "<table border=\"1\" class=\"dataframe\">\n",
       "  <thead>\n",
       "    <tr style=\"text-align: right;\">\n",
       "      <th></th>\n",
       "      <th>phish_id</th>\n",
       "      <th>url</th>\n",
       "      <th>phish_detail_url</th>\n",
       "      <th>submission_time</th>\n",
       "      <th>verified</th>\n",
       "      <th>verification_time</th>\n",
       "      <th>online</th>\n",
       "      <th>target</th>\n",
       "    </tr>\n",
       "  </thead>\n",
       "  <tbody>\n",
       "    <tr>\n",
       "      <th>0</th>\n",
       "      <td>8570156</td>\n",
       "      <td>https://yahoouloginmail.weeblysite.com/</td>\n",
       "      <td>http://www.phishtank.com/phish_detail.php?phis...</td>\n",
       "      <td>2024-05-09T19:59:28+00:00</td>\n",
       "      <td>yes</td>\n",
       "      <td>2024-05-09T20:04:16+00:00</td>\n",
       "      <td>yes</td>\n",
       "      <td>Yahoo</td>\n",
       "    </tr>\n",
       "    <tr>\n",
       "      <th>1</th>\n",
       "      <td>8570155</td>\n",
       "      <td>https://ymail4783.weebly.com/</td>\n",
       "      <td>http://www.phishtank.com/phish_detail.php?phis...</td>\n",
       "      <td>2024-05-09T19:57:45+00:00</td>\n",
       "      <td>yes</td>\n",
       "      <td>2024-05-09T20:04:16+00:00</td>\n",
       "      <td>yes</td>\n",
       "      <td>Yahoo</td>\n",
       "    </tr>\n",
       "    <tr>\n",
       "      <th>2</th>\n",
       "      <td>8570154</td>\n",
       "      <td>https://meta-applicationn.vercel.app/request.html</td>\n",
       "      <td>http://www.phishtank.com/phish_detail.php?phis...</td>\n",
       "      <td>2024-05-09T19:56:35+00:00</td>\n",
       "      <td>yes</td>\n",
       "      <td>2024-05-09T20:04:16+00:00</td>\n",
       "      <td>yes</td>\n",
       "      <td>Facebook</td>\n",
       "    </tr>\n",
       "    <tr>\n",
       "      <th>3</th>\n",
       "      <td>8570153</td>\n",
       "      <td>https://meta-applicationn.vercel.app/</td>\n",
       "      <td>http://www.phishtank.com/phish_detail.php?phis...</td>\n",
       "      <td>2024-05-09T19:56:08+00:00</td>\n",
       "      <td>yes</td>\n",
       "      <td>2024-05-09T20:04:16+00:00</td>\n",
       "      <td>yes</td>\n",
       "      <td>Facebook</td>\n",
       "    </tr>\n",
       "    <tr>\n",
       "      <th>4</th>\n",
       "      <td>8570146</td>\n",
       "      <td>https://adminnotive232.wixsite.com/my-site</td>\n",
       "      <td>http://www.phishtank.com/phish_detail.php?phis...</td>\n",
       "      <td>2024-05-09T19:51:11+00:00</td>\n",
       "      <td>yes</td>\n",
       "      <td>2024-05-09T19:53:32+00:00</td>\n",
       "      <td>yes</td>\n",
       "      <td>British Telecom</td>\n",
       "    </tr>\n",
       "  </tbody>\n",
       "</table>\n",
       "</div>"
      ],
      "text/plain": [
       "   phish_id                                                url  \\\n",
       "0   8570156            https://yahoouloginmail.weeblysite.com/   \n",
       "1   8570155                      https://ymail4783.weebly.com/   \n",
       "2   8570154  https://meta-applicationn.vercel.app/request.html   \n",
       "3   8570153              https://meta-applicationn.vercel.app/   \n",
       "4   8570146         https://adminnotive232.wixsite.com/my-site   \n",
       "\n",
       "                                    phish_detail_url  \\\n",
       "0  http://www.phishtank.com/phish_detail.php?phis...   \n",
       "1  http://www.phishtank.com/phish_detail.php?phis...   \n",
       "2  http://www.phishtank.com/phish_detail.php?phis...   \n",
       "3  http://www.phishtank.com/phish_detail.php?phis...   \n",
       "4  http://www.phishtank.com/phish_detail.php?phis...   \n",
       "\n",
       "             submission_time verified          verification_time online  \\\n",
       "0  2024-05-09T19:59:28+00:00      yes  2024-05-09T20:04:16+00:00    yes   \n",
       "1  2024-05-09T19:57:45+00:00      yes  2024-05-09T20:04:16+00:00    yes   \n",
       "2  2024-05-09T19:56:35+00:00      yes  2024-05-09T20:04:16+00:00    yes   \n",
       "3  2024-05-09T19:56:08+00:00      yes  2024-05-09T20:04:16+00:00    yes   \n",
       "4  2024-05-09T19:51:11+00:00      yes  2024-05-09T19:53:32+00:00    yes   \n",
       "\n",
       "            target  \n",
       "0            Yahoo  \n",
       "1            Yahoo  \n",
       "2         Facebook  \n",
       "3         Facebook  \n",
       "4  British Telecom  "
      ]
     },
     "execution_count": 5,
     "metadata": {},
     "output_type": "execute_result"
    }
   ],
   "source": [
    "dataset2.head()"
   ]
  },
  {
   "cell_type": "code",
   "execution_count": 12,
   "id": "4563e18e-4dea-4ede-aaba-0dc2cd53e5bb",
   "metadata": {},
   "outputs": [
    {
     "data": {
      "text/html": [
       "<div>\n",
       "<style scoped>\n",
       "    .dataframe tbody tr th:only-of-type {\n",
       "        vertical-align: middle;\n",
       "    }\n",
       "\n",
       "    .dataframe tbody tr th {\n",
       "        vertical-align: top;\n",
       "    }\n",
       "\n",
       "    .dataframe thead th {\n",
       "        text-align: right;\n",
       "    }\n",
       "</style>\n",
       "<table border=\"1\" class=\"dataframe\">\n",
       "  <thead>\n",
       "    <tr style=\"text-align: right;\">\n",
       "      <th></th>\n",
       "      <th>url</th>\n",
       "      <th>type</th>\n",
       "    </tr>\n",
       "  </thead>\n",
       "  <tbody>\n",
       "    <tr>\n",
       "      <th>0</th>\n",
       "      <td>br-icloud.com.br</td>\n",
       "      <td>phishing</td>\n",
       "    </tr>\n",
       "    <tr>\n",
       "      <th>1</th>\n",
       "      <td>mp3raid.com/music/krizz_kaliko.html</td>\n",
       "      <td>benign</td>\n",
       "    </tr>\n",
       "    <tr>\n",
       "      <th>2</th>\n",
       "      <td>bopsecrets.org/rexroth/cr/1.htm</td>\n",
       "      <td>benign</td>\n",
       "    </tr>\n",
       "    <tr>\n",
       "      <th>3</th>\n",
       "      <td>http://www.garage-pirenne.be/index.php?option=...</td>\n",
       "      <td>defacement</td>\n",
       "    </tr>\n",
       "    <tr>\n",
       "      <th>4</th>\n",
       "      <td>http://adventure-nicaragua.net/index.php?optio...</td>\n",
       "      <td>defacement</td>\n",
       "    </tr>\n",
       "    <tr>\n",
       "      <th>5</th>\n",
       "      <td>http://buzzfil.net/m/show-art/ils-etaient-loin...</td>\n",
       "      <td>benign</td>\n",
       "    </tr>\n",
       "    <tr>\n",
       "      <th>6</th>\n",
       "      <td>espn.go.com/nba/player/_/id/3457/brandon-rush</td>\n",
       "      <td>benign</td>\n",
       "    </tr>\n",
       "    <tr>\n",
       "      <th>7</th>\n",
       "      <td>yourbittorrent.com/?q=anthony-hamilton-soulife</td>\n",
       "      <td>benign</td>\n",
       "    </tr>\n",
       "    <tr>\n",
       "      <th>8</th>\n",
       "      <td>http://www.pashminaonline.com/pure-pashminas</td>\n",
       "      <td>defacement</td>\n",
       "    </tr>\n",
       "    <tr>\n",
       "      <th>9</th>\n",
       "      <td>allmusic.com/album/crazy-from-the-heat-r16990</td>\n",
       "      <td>benign</td>\n",
       "    </tr>\n",
       "  </tbody>\n",
       "</table>\n",
       "</div>"
      ],
      "text/plain": [
       "                                                 url        type\n",
       "0                                   br-icloud.com.br    phishing\n",
       "1                mp3raid.com/music/krizz_kaliko.html      benign\n",
       "2                    bopsecrets.org/rexroth/cr/1.htm      benign\n",
       "3  http://www.garage-pirenne.be/index.php?option=...  defacement\n",
       "4  http://adventure-nicaragua.net/index.php?optio...  defacement\n",
       "5  http://buzzfil.net/m/show-art/ils-etaient-loin...      benign\n",
       "6      espn.go.com/nba/player/_/id/3457/brandon-rush      benign\n",
       "7     yourbittorrent.com/?q=anthony-hamilton-soulife      benign\n",
       "8       http://www.pashminaonline.com/pure-pashminas  defacement\n",
       "9      allmusic.com/album/crazy-from-the-heat-r16990      benign"
      ]
     },
     "execution_count": 12,
     "metadata": {},
     "output_type": "execute_result"
    }
   ],
   "source": [
    "dataset1.head(10)"
   ]
  },
  {
   "cell_type": "code",
   "execution_count": 7,
   "id": "b8b6b1ce-c8ee-4dec-aa3b-4dd3ca14423e",
   "metadata": {},
   "outputs": [
    {
     "data": {
      "text/plain": [
       "(651191, 2)"
      ]
     },
     "execution_count": 7,
     "metadata": {},
     "output_type": "execute_result"
    }
   ],
   "source": [
    "dataset1.shape"
   ]
  },
  {
   "cell_type": "code",
   "execution_count": 9,
   "id": "8abec0b4-7f69-47d4-ae9b-4bd5cf2cf918",
   "metadata": {},
   "outputs": [
    {
     "data": {
      "text/plain": [
       "(60706, 8)"
      ]
     },
     "execution_count": 9,
     "metadata": {},
     "output_type": "execute_result"
    }
   ],
   "source": [
    "dataset2.shape #this dataset only has phish urls"
   ]
  },
  {
   "cell_type": "code",
   "execution_count": 17,
   "id": "d42c6f1b-6ae5-4215-98d5-133907ecdedc",
   "metadata": {},
   "outputs": [
    {
     "name": "stdout",
     "output_type": "stream",
     "text": [
      "   col1  col2  col3\n",
      "0     1     4     7\n",
      "1     2     5     8\n",
      "2     3     6     9\n"
     ]
    }
   ],
   "source": [
    "# Given dictionary\n",
    "tempDict = {'col1': [1, 2, 3], 'col2': [4, 5, 6], 'col3': [7, 8, 9]}\n",
    "\n",
    "# Create DataFrame from dictionary\n",
    "dictdf = pd.DataFrame(tempDict)\n",
    "\n",
    "# Print the DataFrame\n",
    "print(dictdf)"
   ]
  },
  {
   "cell_type": "code",
   "execution_count": 30,
   "id": "c16f875c-27a3-4e9f-b2a5-832cb1f55ed5",
   "metadata": {},
   "outputs": [
    {
     "data": {
      "text/html": [
       "<div>\n",
       "<style scoped>\n",
       "    .dataframe tbody tr th:only-of-type {\n",
       "        vertical-align: middle;\n",
       "    }\n",
       "\n",
       "    .dataframe tbody tr th {\n",
       "        vertical-align: top;\n",
       "    }\n",
       "\n",
       "    .dataframe thead th {\n",
       "        text-align: right;\n",
       "    }\n",
       "</style>\n",
       "<table border=\"1\" class=\"dataframe\">\n",
       "  <thead>\n",
       "    <tr style=\"text-align: right;\">\n",
       "      <th></th>\n",
       "      <th>url</th>\n",
       "      <th>type</th>\n",
       "    </tr>\n",
       "  </thead>\n",
       "  <tbody>\n",
       "    <tr>\n",
       "      <th>0</th>\n",
       "      <td>br-icloud.com.br</td>\n",
       "      <td>phishing</td>\n",
       "    </tr>\n",
       "    <tr>\n",
       "      <th>1</th>\n",
       "      <td>mp3raid.com/music/krizz_kaliko.html</td>\n",
       "      <td>benign</td>\n",
       "    </tr>\n",
       "    <tr>\n",
       "      <th>2</th>\n",
       "      <td>bopsecrets.org/rexroth/cr/1.htm</td>\n",
       "      <td>benign</td>\n",
       "    </tr>\n",
       "    <tr>\n",
       "      <th>3</th>\n",
       "      <td>http://www.garage-pirenne.be/index.php?option=...</td>\n",
       "      <td>defacement</td>\n",
       "    </tr>\n",
       "    <tr>\n",
       "      <th>4</th>\n",
       "      <td>http://adventure-nicaragua.net/index.php?optio...</td>\n",
       "      <td>defacement</td>\n",
       "    </tr>\n",
       "  </tbody>\n",
       "</table>\n",
       "</div>"
      ],
      "text/plain": [
       "                                                 url        type\n",
       "0                                   br-icloud.com.br    phishing\n",
       "1                mp3raid.com/music/krizz_kaliko.html      benign\n",
       "2                    bopsecrets.org/rexroth/cr/1.htm      benign\n",
       "3  http://www.garage-pirenne.be/index.php?option=...  defacement\n",
       "4  http://adventure-nicaragua.net/index.php?optio...  defacement"
      ]
     },
     "execution_count": 30,
     "metadata": {},
     "output_type": "execute_result"
    }
   ],
   "source": [
    "#bottom 5\n",
    "dataset1.head()"
   ]
  },
  {
   "cell_type": "code",
   "execution_count": 24,
   "id": "b1aedbf7-e82a-45a3-a100-983370d695aa",
   "metadata": {},
   "outputs": [
    {
     "data": {
      "text/plain": [
       "Index(['url', 'type'], dtype='object')"
      ]
     },
     "execution_count": 24,
     "metadata": {},
     "output_type": "execute_result"
    }
   ],
   "source": [
    "#SHOWING COULMS\n",
    "dataset1.columns"
   ]
  },
  {
   "cell_type": "code",
   "execution_count": 25,
   "id": "5f53c12b-d670-4fe0-8578-f4d0f86f40d1",
   "metadata": {},
   "outputs": [
    {
     "data": {
      "text/plain": [
       "Index(['phish_id', 'url', 'phish_detail_url', 'submission_time', 'verified',\n",
       "       'verification_time', 'online', 'target'],\n",
       "      dtype='object')"
      ]
     },
     "execution_count": 25,
     "metadata": {},
     "output_type": "execute_result"
    }
   ],
   "source": [
    "dataset2.columns"
   ]
  },
  {
   "cell_type": "code",
   "execution_count": 26,
   "id": "8a3d5366-f63b-4216-bbc0-90d5eec5affd",
   "metadata": {},
   "outputs": [
    {
     "data": {
      "text/plain": [
       "url     object\n",
       "type    object\n",
       "dtype: object"
      ]
     },
     "execution_count": 26,
     "metadata": {},
     "output_type": "execute_result"
    }
   ],
   "source": [
    "dataset1.dtypes"
   ]
  },
  {
   "cell_type": "code",
   "execution_count": 27,
   "id": "3a79110d-511d-4955-a3b0-7d7642775111",
   "metadata": {},
   "outputs": [
    {
     "data": {
      "text/plain": [
       "phish_id              int64\n",
       "url                  object\n",
       "phish_detail_url     object\n",
       "submission_time      object\n",
       "verified             object\n",
       "verification_time    object\n",
       "online               object\n",
       "target               object\n",
       "dtype: object"
      ]
     },
     "execution_count": 27,
     "metadata": {},
     "output_type": "execute_result"
    }
   ],
   "source": [
    "dataset2.dtypes"
   ]
  },
  {
   "cell_type": "code",
   "execution_count": 32,
   "id": "31a745ac-9e27-44af-9084-32fe32358c6e",
   "metadata": {},
   "outputs": [
    {
     "data": {
      "text/plain": [
       "0                  https://yahoouloginmail.weeblysite.com/\n",
       "1                            https://ymail4783.weebly.com/\n",
       "2        https://meta-applicationn.vercel.app/request.html\n",
       "3                    https://meta-applicationn.vercel.app/\n",
       "4               https://adminnotive232.wixsite.com/my-site\n",
       "                               ...                        \n",
       "60701     http://www.ezblox.site/free/jennifer111/helpdesk\n",
       "60702    http://www.formbuddy.com/cgi-bin/formdisp.pl?u...\n",
       "60703    http://www.formbuddy.com/cgi-bin/formdisp.pl?u...\n",
       "60704         http://www.habbocreditosparati.blogspot.com/\n",
       "60705    http://creditiperhabbogratissicuro100.blogspot...\n",
       "Name: url, Length: 60706, dtype: object"
      ]
     },
     "execution_count": 32,
     "metadata": {},
     "output_type": "execute_result"
    }
   ],
   "source": [
    "dataset2['url']"
   ]
  },
  {
   "cell_type": "code",
   "execution_count": 35,
   "id": "ebd6ceca-3550-4cc8-93f6-c6bb707de7c2",
   "metadata": {},
   "outputs": [
    {
     "data": {
      "text/plain": [
       "array(['phishing', 'benign', 'defacement', 'malware'], dtype=object)"
      ]
     },
     "execution_count": 35,
     "metadata": {},
     "output_type": "execute_result"
    }
   ],
   "source": [
    "dataset1.type.unique()"
   ]
  },
  {
   "cell_type": "code",
   "execution_count": 44,
   "id": "f9b9e15b-6289-4779-a4af-5fc46a0cbe7b",
   "metadata": {},
   "outputs": [],
   "source": [
    "benign_urls = dataset1[dataset1['type'] == 'benign']['url']\n",
    "phishing_urls = dataset1[(dataset1['type'] == 'phishing') | (dataset1['type'] == 'malware') | (dataset1['type'] == 'defacement')]['url']\n"
   ]
  },
  {
   "cell_type": "code",
   "execution_count": 38,
   "id": "5ad77a92-e262-46bf-a28c-67a86ba6b58a",
   "metadata": {},
   "outputs": [
    {
     "data": {
      "text/plain": [
       "1                  mp3raid.com/music/krizz_kaliko.html\n",
       "2                      bopsecrets.org/rexroth/cr/1.htm\n",
       "5    http://buzzfil.net/m/show-art/ils-etaient-loin...\n",
       "6        espn.go.com/nba/player/_/id/3457/brandon-rush\n",
       "7       yourbittorrent.com/?q=anthony-hamilton-soulife\n",
       "Name: url, dtype: object"
      ]
     },
     "execution_count": 38,
     "metadata": {},
     "output_type": "execute_result"
    }
   ],
   "source": [
    "benign_urls.head()"
   ]
  },
  {
   "cell_type": "code",
   "execution_count": 45,
   "id": "ce15ef11-edae-477d-b479-7f82e6ffa7e5",
   "metadata": {},
   "outputs": [
    {
     "data": {
      "text/plain": [
       "0                                      br-icloud.com.br\n",
       "3     http://www.garage-pirenne.be/index.php?option=...\n",
       "4     http://adventure-nicaragua.net/index.php?optio...\n",
       "8          http://www.pashminaonline.com/pure-pashminas\n",
       "11    http://www.ikenmijnkunst.nl/index.php/expositi...\n",
       "Name: url, dtype: object"
      ]
     },
     "execution_count": 45,
     "metadata": {},
     "output_type": "execute_result"
    }
   ],
   "source": [
    "phishing_urls.head()"
   ]
  },
  {
   "cell_type": "code",
   "execution_count": 49,
   "id": "61bf0fb0-9f55-49d3-8aae-dab6e5aa0555",
   "metadata": {},
   "outputs": [],
   "source": [
    "phishing_urls += dataset2.url"
   ]
  },
  {
   "cell_type": "code",
   "execution_count": 50,
   "id": "91297508-cb17-4420-ac6a-effeea57d867",
   "metadata": {},
   "outputs": [
    {
     "data": {
      "text/plain": [
       "0     br-icloud.com.brhttps://yahoouloginmail.weebly...\n",
       "3     http://www.garage-pirenne.be/index.php?option=...\n",
       "4     http://adventure-nicaragua.net/index.php?optio...\n",
       "8     http://www.pashminaonline.com/pure-pashminasht...\n",
       "11    http://www.ikenmijnkunst.nl/index.php/expositi...\n",
       "Name: url, dtype: object"
      ]
     },
     "execution_count": 50,
     "metadata": {},
     "output_type": "execute_result"
    }
   ],
   "source": [
    "phishing_urls.head()"
   ]
  },
  {
   "cell_type": "markdown",
   "id": "1642fe78-336d-40a9-98d2-39705ca928c7",
   "metadata": {},
   "source": [
    "Feature extractions"
   ]
  },
  {
   "cell_type": "code",
   "execution_count": 51,
   "id": "a98138a4-eafc-44e0-b6a4-69e95e057b59",
   "metadata": {},
   "outputs": [],
   "source": [
    "phishing_urls.to_csv('phishing_urls.csv', index=False)"
   ]
  },
  {
   "cell_type": "code",
   "execution_count": 52,
   "id": "a5cbbb41-8fde-43a9-ac81-96aa753e0092",
   "metadata": {},
   "outputs": [],
   "source": [
    "benign_urls.to_csv('benign_urls.csv', index=False)"
   ]
  },
  {
   "cell_type": "code",
   "execution_count": null,
   "id": "71d20e2b-4ff0-4416-b22d-b8f6960f37e9",
   "metadata": {},
   "outputs": [],
   "source": []
  }
 ],
 "metadata": {
  "kernelspec": {
   "display_name": "Python 3 (ipykernel)",
   "language": "python",
   "name": "python3"
  },
  "language_info": {
   "codemirror_mode": {
    "name": "ipython",
    "version": 3
   },
   "file_extension": ".py",
   "mimetype": "text/x-python",
   "name": "python",
   "nbconvert_exporter": "python",
   "pygments_lexer": "ipython3",
   "version": "3.11.7"
  }
 },
 "nbformat": 4,
 "nbformat_minor": 5
}
