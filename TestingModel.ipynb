{
 "cells": [
  {
   "cell_type": "code",
   "execution_count": 24,
   "id": "96ff8812-6319-4c89-b969-1391f172df5a",
   "metadata": {},
   "outputs": [],
   "source": [
    "from features_extraction import *"
   ]
  },
  {
   "cell_type": "code",
   "execution_count": 8,
   "id": "5e2baa02-6b72-4515-abfd-05e777e44bd5",
   "metadata": {},
   "outputs": [
    {
     "name": "stdout",
     "output_type": "stream",
     "text": [
      "Input shape: (None, 6)\n"
     ]
    }
   ],
   "source": [
    "import pickle\n",
    "\n",
    "# Load the pickled model\n",
    "with open('NeuralNetwrok.pickle.dat', 'rb') as file:\n",
    "    model = pickle.load(file)\n",
    "\n",
    "input_shape = model.input_shape\n",
    "print(\"Input shape:\", input_shape)"
   ]
  },
  {
   "cell_type": "code",
   "execution_count": 25,
   "id": "081e881b-9ac6-4dcb-a6fa-19b4c745de1b",
   "metadata": {},
   "outputs": [],
   "source": [
    "feature_names = ['length', 'check_shortening','check_for_iframe', 'check_for_bar_manipulation','check_for_right_click_disabled', 'web_tracffic']\n",
    "def featureExtraction(url):\n",
    "    features = []\n",
    "    try:\n",
    "        response = requests.get(url)\n",
    "    except:\n",
    "        response = \"\"\n",
    "    features.append(length(url))\n",
    "    features.append(check_shortening(url))\n",
    "    features.append(check_for_iframe(response))\n",
    "    features.append(check_for_bar_manipulation(response))\n",
    "    features.append(check_for_right_click_disabled(response))\n",
    "    features.append(web_traffic(url))\n",
    "    return features"
   ]
  },
  {
   "cell_type": "code",
   "execution_count": 65,
   "id": "f9470675-1895-4f2a-8892-ee40fc30bd8a",
   "metadata": {},
   "outputs": [],
   "source": [
    "#url = 'http://buzzfil.net/m/show-art/ils-etaient-loin-de-s-imaginer-que-le-hibou-allait-faire-ceci-quand-ils-filmaient-2.html'\n",
    "#url = 'http://www.pashminaonline.com/pure-pashminashttps://unwanted404page.duckdns.org/404BonusesMeta-facebook/https://unwanted404page.duckdns.org/404BonusesMeta-facebook/'\n",
    "url = 'https://canabasoot.top/ca'\n",
    "features = featureExtraction(url)"
   ]
  },
  {
   "cell_type": "code",
   "execution_count": 66,
   "id": "89c7f885-e235-4ce9-9716-870fcf92b629",
   "metadata": {},
   "outputs": [
    {
     "name": "stdout",
     "output_type": "stream",
     "text": [
      "[0, 0, 0, None, None, 1]\n"
     ]
    }
   ],
   "source": [
    "print(features)"
   ]
  },
  {
   "cell_type": "code",
   "execution_count": 67,
   "id": "6a83e6a4-50aa-443d-bc65-e981ccd036a1",
   "metadata": {},
   "outputs": [
    {
     "name": "stdout",
     "output_type": "stream",
     "text": [
      "\u001b[1m1/1\u001b[0m \u001b[32m━━━━━━━━━━━━━━━━━━━━\u001b[0m\u001b[37m\u001b[0m \u001b[1m0s\u001b[0m 33ms/step\n",
      "[[0.5012402]]\n",
      "Rounded Prediction: 1\n"
     ]
    }
   ],
   "source": [
    "import numpy as np\n",
    "features_array = np.array(features, dtype=np.float32)  # Convert to float32 if needed\n",
    "input_data = np.array([features_array])\n",
    "\n",
    "# Make the prediction\n",
    "prediction = model.predict(input_data)\n",
    "print(prediction)\n",
    "\n",
    "# Round the prediction\n",
    "rounded_prediction = round(prediction[0][0])\n",
    "print(\"Rounded Prediction:\", rounded_prediction)\n",
    "\n",
    "# # Convert the input data to a numpy array\n",
    "# input_data = np.array([features])\n",
    "# # Make the prediction\n",
    "# prediction = model.predict(input_data)\n",
    "# print(prediction)\n",
    "# rounded_prediction = round(prediction[0][0])\n",
    "# print(rounded_prediction)"
   ]
  },
  {
   "cell_type": "code",
   "execution_count": null,
   "id": "e953e8c8-d963-4efe-8a5f-3238f558cd2d",
   "metadata": {},
   "outputs": [],
   "source": []
  }
 ],
 "metadata": {
  "kernelspec": {
   "display_name": "Python 3 (ipykernel)",
   "language": "python",
   "name": "python3"
  },
  "language_info": {
   "codemirror_mode": {
    "name": "ipython",
    "version": 3
   },
   "file_extension": ".py",
   "mimetype": "text/x-python",
   "name": "python",
   "nbconvert_exporter": "python",
   "pygments_lexer": "ipython3",
   "version": "3.11.7"
  }
 },
 "nbformat": 4,
 "nbformat_minor": 5
}
