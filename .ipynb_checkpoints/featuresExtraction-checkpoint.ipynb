{
 "cells": [
  {
   "cell_type": "markdown",
   "id": "e5275b77-fde9-46ca-9dd9-b1c2050289bf",
   "metadata": {},
   "source": [
    "Feature Extraction"
   ]
  },
  {
   "cell_type": "code",
   "execution_count": 1,
   "id": "c1a188dd-3df9-4c3d-8432-1a8f81592e73",
   "metadata": {},
   "outputs": [],
   "source": [
    "from urllib.parse import urlparse,urlencode\r\n",
    "import ipaddress "
   ]
  },
  {
   "cell_type": "markdown",
   "id": "f4d956a4-25ce-4ff7-b318-18a79245038a",
   "metadata": {},
   "source": [
    "3.1 IP Address in the URL\n",
    "Checks for the presence of IP address in the URL. URLs may have IP address instead of domain name. If an IP address is used as an alternative of the domain name in the URL, we can be sure that someone is trying to steal personal information with this URL.\n",
    "\n",
    "If the domain part of URL has IP address, the value assigned to this feature is 1 (phishing) or else 0 (legitimate).\n",
    "\n",
    "re.search() function is used to search for specific patters in a url."
   ]
  },
  {
   "cell_type": "code",
   "execution_count": 2,
   "id": "e2172ada-915f-44e7-9f0c-68ab6e01b3e8",
   "metadata": {},
   "outputs": [],
   "source": [
    "def has_ip_address(url):\n",
    "    # Regular expression pattern to match IPv4 addresses\n",
    "    ipv4_pattern = r'\\b(?:\\d{1,3}\\.){3}\\d{1,3}\\b'\n",
    "    \n",
    "    # Regular expression pattern to match IPv6 addresses\n",
    "    ipv6_pattern = r'\\b(?:[A-F0-9]{1,4}:){7}[A-F0-9]{1,4}\\b'\n",
    "    \n",
    "    # Search for IPv4 and IPv6 patterns in the URL\n",
    "    has_ipv4 = re.search(ipv4_pattern, url) is not None\n",
    "    has_ipv6 = re.search(ipv6_pattern, url) is not None\n",
    "    \n",
    "    # Return True if either IPv4 or IPv6 address is found in the URL\n",
    "    if (has_ipv4 | has_ipv6):\n",
    "        ip = 1 #has ip address\n",
    "    else:\n",
    "        ip = 0 #doesn't have ip address\n",
    "    \n",
    "    return ip"
   ]
  },
  {
   "cell_type": "markdown",
   "id": "493681e0-bded-4952-b183-8cad2e847b70",
   "metadata": {},
   "source": [
    "3.2 Checking the length of the URL\n",
    "\n",
    "if length of URL >= 54 then assigning it a value of 1 (phishing) else 0 (benign)"
   ]
  },
  {
   "cell_type": "code",
   "execution_count": 3,
   "id": "170f8534-dfbd-48e4-9a2d-50ff49e37735",
   "metadata": {},
   "outputs": [],
   "source": [
    "import re\n",
    "\n",
    "def length(url):\n",
    "    length = len(url)\n",
    "    if length < 54:\n",
    "        return 0\n",
    "    else:\n",
    "        return 1"
   ]
  },
  {
   "cell_type": "markdown",
   "id": "b8ba68f9-a8f9-439a-9bee-be1ee06b64aa",
   "metadata": {},
   "source": [
    "3.3 If there is a @ in a url, everything after the @ is ignored by the browser\n",
    "We assign at a value of 1 (phishing) if the url has @ else 0 (benign)"
   ]
  },
  {
   "cell_type": "code",
   "execution_count": 4,
   "id": "5913b337-158d-43ca-bda2-40940c35fea8",
   "metadata": {},
   "outputs": [],
   "source": [
    "def checkAtSign(url):\n",
    "    if \"@\" in url:\n",
    "        at = 1\n",
    "    else:\n",
    "        at = 0\n",
    "    return at"
   ]
  },
  {
   "cell_type": "markdown",
   "id": "59544765-3a61-44fa-80fe-192957f75455",
   "metadata": {},
   "source": [
    "3.4 Domain Age: Phishing websites often have recently registered domains, while legitimate websites tend to have older domains. You can determine the age of the domain using WHOIS data and include it as a feature."
   ]
  },
  {
   "cell_type": "code",
   "execution_count": 5,
   "id": "0df96869-4ddf-47f3-be68-0e7dd4f1f220",
   "metadata": {},
   "outputs": [
    {
     "name": "stdout",
     "output_type": "stream",
     "text": [
      "Requirement already satisfied: python-whois in c:\\users\\user\\anaconda3\\lib\\site-packages (0.9.4)\n",
      "Requirement already satisfied: python-dateutil in c:\\users\\user\\anaconda3\\lib\\site-packages (from python-whois) (2.8.2)\n",
      "Requirement already satisfied: six>=1.5 in c:\\users\\user\\anaconda3\\lib\\site-packages (from python-dateutil->python-whois) (1.16.0)\n"
     ]
    }
   ],
   "source": [
    "!pip install python-whois\n",
    "from datetime import datetime \n",
    "import whois\n"
   ]
  },
  {
   "cell_type": "code",
   "execution_count": 6,
   "id": "9dab34c9-aead-4a79-9405-f6f937c3d299",
   "metadata": {},
   "outputs": [],
   "source": [
    "def calc_domain_age(url, threshold=30):\n",
    "    try:\n",
    "        domain_information = whois.whois(domain)\n",
    "        creation_date = domain_information.creation_date\n",
    "        if isinstance(creation_date, list):\n",
    "            creation_date = creation_date[0]\n",
    "            \n",
    "        if creation_date:\n",
    "            current_date = datetime.now()\n",
    "            domain_age = (current_date - creation_date).days\n",
    "        else:\n",
    "            domain_age = None\n",
    "\n",
    "        if domain_age and domain_age <= threshold:\n",
    "            recent_domain = 1\n",
    "        else:\n",
    "            recent_domain = 0\n",
    "        return recent_domain\n",
    "        \n",
    "    except:\n",
    "        return 0"
   ]
  },
  {
   "cell_type": "markdown",
   "id": "2dee3fbf-cbd9-4e3e-afdb-3fc3c7ed68f2",
   "metadata": {},
   "source": [
    "3.5 URL shortening\n",
    "URL shortening is a method on the “World Wide Web” in which a URL may be made considerably smaller in length and still lead to the required webpage. \n",
    "\n",
    "If the URL is using Shortening Services, the value assigned to this feature is 1 (phishing) or else 0 (legitimate)."
   ]
  },
  {
   "cell_type": "code",
   "execution_count": 7,
   "id": "0b639106-07ef-4ea8-b385-5f4b9172b5fa",
   "metadata": {},
   "outputs": [],
   "source": [
    "#listing shortening services\n",
    "shortening_services = r\"bit\\.ly|goo\\.gl|shorte\\.st|go2l\\.ink|x\\.co|ow\\.ly|t\\.co|tinyurl|tr\\.im|is\\.gd|cli\\.gs|\" \\\n",
    "                      r\"yfrog\\.com|migre\\.me|ff\\.im|tiny\\.cc|url4\\.eu|twit\\.ac|su\\.pr|twurl\\.nl|snipurl\\.com|\" \\\n",
    "                      r\"short\\.to|BudURL\\.com|ping\\.fm|post\\.ly|Just\\.as|bkite\\.com|snipr\\.com|fic\\.kr|loopt\\.us|\" \\\n",
    "                      r\"doiop\\.com|short\\.ie|kl\\.am|wp\\.me|rubyurl\\.com|om\\.ly|to\\.ly|bit\\.do|t\\.co|lnkd\\.in|db\\.tt|\" \\\n",
    "                      r\"qr\\.ae|adf\\.ly|goo\\.gl|bitly\\.com|cur\\.lv|tinyurl\\.com|ow\\.ly|bit\\.ly|ity\\.im|q\\.gs|is\\.gd|\" \\\n",
    "                      r\"po\\.st|bc\\.vc|twitthis\\.com|u\\.to|j\\.mp|buzurl\\.com|cutt\\.us|u\\.bb|yourls\\.org|x\\.co|\" \\\n",
    "                      r\"prettylinkpro\\.com|scrnch\\.me|filoops\\.info|vzturl\\.com|qr\\.net|1url\\.com|tweez\\.me|v\\.gd|\" \\\n",
    "                      r\"tr\\.im|link\\.zip\\.net\""
   ]
  },
  {
   "cell_type": "code",
   "execution_count": 8,
   "id": "92a7de69-edd2-48f7-acb7-3f1e2e2e4589",
   "metadata": {},
   "outputs": [],
   "source": [
    "def check_shortening(url):\n",
    "    match = re.search(shortening_services, url)\n",
    "    if match:\n",
    "        return 1\n",
    "    else:\n",
    "        return 0"
   ]
  },
  {
   "cell_type": "code",
   "execution_count": 9,
   "id": "dece0745-eece-4f92-8bf3-1f04af9d141c",
   "metadata": {},
   "outputs": [
    {
     "name": "stdout",
     "output_type": "stream",
     "text": [
      "Requirement already satisfied: python-whois in c:\\users\\user\\anaconda3\\lib\\site-packages (0.9.4)\n",
      "Requirement already satisfied: python-dateutil in c:\\users\\user\\anaconda3\\lib\\site-packages (from python-whois) (2.8.2)\n",
      "Requirement already satisfied: six>=1.5 in c:\\users\\user\\anaconda3\\lib\\site-packages (from python-dateutil->python-whois) (1.16.0)\n"
     ]
    }
   ],
   "source": [
    "!pip install python-whois"
   ]
  },
  {
   "cell_type": "code",
   "execution_count": 10,
   "id": "e7df41e5-488d-4084-830d-c73558bb2236",
   "metadata": {},
   "outputs": [],
   "source": [
    "import re\n",
    "from bs4 import BeautifulSoup\n",
    "import whois\n",
    "import urllib\n",
    "import urllib.request\n",
    "from datetime import datetime"
   ]
  },
  {
   "cell_type": "markdown",
   "id": "1d28de3f-1155-42c1-b9ee-f913eb26124f",
   "metadata": {},
   "source": [
    "3.6 Web traffic\n",
    "Phishing websites usually live for a short period of time; they may not be recognised by the Alexa database. \n",
    "\n",
    "For our model, if the domain has no traffic or is not recognized by the Alexa database, it is classified as “Phishing”.\n"
   ]
  },
  {
   "cell_type": "code",
   "execution_count": 11,
   "id": "0e6972ad-7df9-4bd3-9035-67ad6f967666",
   "metadata": {},
   "outputs": [],
   "source": [
    "def web_traffic(url):\n",
    "  try:\n",
    "    #Filling the whitespaces in the URL if any\n",
    "    url = urllib.parse.quote(url)\n",
    "    rank = BeautifulSoup(urllib.request.urlopen(\"http://data.alexa.com/data?cli=10&dat=s&url=\" + url).read(), \"xml\").find(\n",
    "        \"REACH\")['RANK']\n",
    "    rank = int(rank)\n",
    "  except TypeError:\n",
    "        return 1\n",
    "  else:\n",
    "      if rank <100000:\n",
    "        return 1\n",
    "      else:\n",
    "        return 0"
   ]
  },
  {
   "cell_type": "markdown",
   "id": "8beb12f0-1894-4b28-a71c-6aa9be8efd57",
   "metadata": {},
   "source": [
    "3.6 HTML and JS based features"
   ]
  },
  {
   "cell_type": "code",
   "execution_count": 12,
   "id": "03148845-f7d1-4461-8f65-d431937a6cc7",
   "metadata": {},
   "outputs": [],
   "source": [
    "import requests #this liab is used to make HTTP requests to URLS\n",
    "from bs4 import BeautifulSoup #to parse the HTML docs\n"
   ]
  },
  {
   "cell_type": "markdown",
   "id": "e75c8aaa-d875-495a-ac93-6197ebf44614",
   "metadata": {},
   "source": [
    "Iframe is an HTML tag used to display an additional webpage into one that is currently shown. Phishers can make use of the “iframe” tag and make it invisible i.e. without frame borders. In this regard, phishers make use of the “frameBorder” attribute which causes the browser to render a visual delineation. \r\n",
    "\r\n",
    "If the iframe is empty or repsonse is not found then, the value assigned to this feature is 1 (phishing) or else 0 (legitimat.\"\"\""
   ]
  },
  {
   "cell_type": "code",
   "execution_count": 13,
   "id": "70171bd3-2aad-48b3-95e2-4f077e0ccf70",
   "metadata": {},
   "outputs": [],
   "source": [
    "def check_for_iframe(response):\n",
    "    if response == \"\":\n",
    "        return 1\n",
    "    try:\n",
    "        #response = requests.get(url) #sending an HTTP get request\n",
    "        if response.status_code == 200:\n",
    "            html_content = response.text\n",
    "            soup = BeautifulSoup(html_content, 'html.parser')\n",
    "            iframes = soup.find_all('iframe')\n",
    "            if iframes:\n",
    "                return 1 #phishing\n",
    "            else:\n",
    "                return 0 #benign \n",
    "        else:\n",
    "            return 0\n",
    "    except Exception as e:\n",
    "        return 0\n",
    "        print(\"An check_for_iframe error occurred:\", str(e))"
   ]
  },
  {
   "cell_type": "markdown",
   "id": "c5c78464-d3b5-4eeb-b98f-baba5e6e7408",
   "metadata": {},
   "source": [
    "Phishers may use JS to show a fake URL in the status bar to users. To extract this feature, we try to find out the webpage source code, particularly the \"onMouseOver\" event and check if it makes any changes on the status bar."
   ]
  },
  {
   "cell_type": "code",
   "execution_count": 14,
   "id": "c0bff59f-4258-488f-a744-45d8831b8f1d",
   "metadata": {},
   "outputs": [],
   "source": [
    "def check_for_bar_manipulation(response):\n",
    "    if response == \"\":\n",
    "        return 1\n",
    "    try:\n",
    "        #response = requests.get(url) #sending an HTTP get request\n",
    "        if response.status_code == 200:\n",
    "            html_content = response.text\n",
    "            js_code = re.findall(r'<script.*?onmouseover.*?>.*?</script>', html_content, re.DOTALL)\n",
    "            if js_code:\n",
    "                for code in js_code:\n",
    "                    if \"window.status\" in code or \"status=\" in code: #these expressions are used to manipulate status bar\n",
    "                        return 1 #phishing\n",
    "                    else: \n",
    "                        return 0\n",
    "        else:\n",
    "            return 0\n",
    "    except Exception as e:\n",
    "        print(\"A check_for_bar_manipulation error occurred:\", str(e))\n",
    "        return 0"
   ]
  },
  {
   "cell_type": "markdown",
   "id": "31eea08f-3064-48d6-94c3-beacfa117500",
   "metadata": {},
   "source": [
    "Phishers attempt to disable the right_click option to prevent users from saving and viewing the webpage source code. For this feature, we search for the event where event.button==2 in the web source code and check if the right click is disabled. "
   ]
  },
  {
   "cell_type": "code",
   "execution_count": 15,
   "id": "2d28e32c-da9b-485e-a817-d495263ddf79",
   "metadata": {},
   "outputs": [],
   "source": [
    "# 15. IFrame Redirection (iFrame)\n",
    "def iframe(response):\n",
    "  if response == \"\":\n",
    "      return 1\n",
    "  else:\n",
    "      if re.findall(r\"[|]\", response.text):\n",
    "          return 0\n",
    "      else:\n",
    "          return 1"
   ]
  },
  {
   "cell_type": "code",
   "execution_count": 16,
   "id": "3bd6a72c-534c-4a5c-a305-79c278458f2b",
   "metadata": {},
   "outputs": [],
   "source": [
    "# 18.Checks the number of forwardings (Web_Forwards)    \n",
    "def forwarding(response):\n",
    "  if response == \"\":\n",
    "    return 1\n",
    "  else:\n",
    "    if len(response.history) <= 2:\n",
    "      return 0\n",
    "    else:\n",
    "      return 1"
   ]
  },
  {
   "cell_type": "code",
   "execution_count": 17,
   "id": "680d54bb-578f-4f14-8677-34ecb07828be",
   "metadata": {},
   "outputs": [],
   "source": [
    "# 17.Checks the status of the right click attribute (Right_Click)\n",
    "def rightClick(response):\n",
    "  if response == \"\":\n",
    "    return 1\n",
    "  else:\n",
    "    if re.findall(r\"event.button ?== ?2\", response.text):\n",
    "      return 0\n",
    "    else:\n",
    "      return 1"
   ]
  },
  {
   "cell_type": "code",
   "execution_count": 18,
   "id": "4c5a0379-25fd-42f9-9d85-6cf8f68bedbf",
   "metadata": {},
   "outputs": [],
   "source": [
    "# 16.Checks the effect of mouse over on status bar (Mouse_Over)\n",
    "def mouseOver(response): \n",
    "  if response == \"\" :\n",
    "    return 1\n",
    "  else:\n",
    "    if re.findall(\"\", response.text):\n",
    "      return 1\n",
    "    else:\n",
    "      return 0"
   ]
  },
  {
   "cell_type": "code",
   "execution_count": 19,
   "id": "d43e952a-6e91-466d-a9a5-1d95f940417b",
   "metadata": {},
   "outputs": [],
   "source": [
    "def check_for_right_click_disabled(response):\n",
    "    if response == \"\":\n",
    "        return 1\n",
    "    try:\n",
    "        #response = requests.get(url) #sending an HTTP get request\n",
    "        if response.status_code == 200:\n",
    "            html_content = response.text\n",
    "            js_code = re.findall(r'<script.*?>.*?</script>', html_content, re.DOTALL)\n",
    "            if js_code:\n",
    "                for code in js_code:\n",
    "                    if \"event.button==2\" in code or \"status=\" in code:\n",
    "                        return 1 #phishing\n",
    "                    else: \n",
    "                        return 0\n",
    "        else:\n",
    "            return 0\n",
    "    except Exception as e:\n",
    "        print(\"A check_for_right_click_disabled error occurred:\", str(e))\n",
    "        return 0"
   ]
  },
  {
   "cell_type": "markdown",
   "id": "b150a7c3-28c8-40cd-9f72-9d28958d066c",
   "metadata": {},
   "source": [
    "The number of times a website has been redirected also differentiates a phishing website from a legitimate website. From the dataset, one observation was legitimate urls only redirected one time max whereas phishing websites have be redirected four or more times."
   ]
  },
  {
   "cell_type": "markdown",
   "id": "a449f5cc-1a0a-4c37-b29c-a5989a707a2f",
   "metadata": {},
   "source": [
    "<span style=\"font-size: 20px;\">Computing URL Features</span>\n",
    "\n",
    "Create a list and a function that calls the other functions and stores all the features of the URL in the list. We will extract the features of each URL and append to this list."
   ]
  },
  {
   "cell_type": "code",
   "execution_count": 20,
   "id": "d4e288fe-2b53-4c52-b983-a485fa8498bb",
   "metadata": {},
   "outputs": [],
   "source": [
    "def featureExtraction(url,target_label):\n",
    "    features = []\n",
    "    features.append(has_ip_address(url))\n",
    "    features.append(length(url))\n",
    "    features.append(checkAtSign(url))\n",
    "    features.append(calc_domain_age(url, 30))\n",
    "    features.append(check_shortening(url))\n",
    "\n",
    "    try:\n",
    "        response = requests.get(url)\n",
    "    except:\n",
    "        response = \"\"\n",
    "        \n",
    "    features.append(check_for_iframe(response))\n",
    "    features.append(check_for_bar_manipulation(response))\n",
    "    features.append(check_for_right_click_disabled(response))\n",
    "    features.append(forwarding(response))\n",
    "    features.append(target_label)\n",
    "    \n",
    "    return features"
   ]
  },
  {
   "cell_type": "code",
   "execution_count": 21,
   "id": "e0be9a8b-1eeb-4c70-8bd8-b7eb36b3ca7c",
   "metadata": {},
   "outputs": [],
   "source": [
    "import pandas as pd\n",
    "\n",
    "phishing = pd.read_csv(\"phishing_urls.csv\")\n",
    "legit = pd.read_csv(\"benign_urls.csv\")\n",
    "sample_size = 5000"
   ]
  },
  {
   "cell_type": "code",
   "execution_count": 22,
   "id": "1b2baa0c-9de7-4312-9878-f948553b4a8e",
   "metadata": {},
   "outputs": [],
   "source": [
    "# phish_features = []\n",
    "# target_label = 1\n",
    "# feature_names = ['has_ip_address', 'length', 'checkAtSign', 'calc_domain_age', 'check_shortening','check_for_iframe', 'check_for_bar_manipulation','check_for_right_click_disabled', 'forwarding', 'label']\n",
    "\n",
    "# for i in range(0, 2000):\n",
    "#     url = phishing[\"url\"][i]\n",
    "#     phish_features.append(featureExtraction(url,1))\n",
    "#     phish_final = pd.DataFrame(phish_features, columns= feature_names)"
   ]
  },
  {
   "cell_type": "code",
   "execution_count": 23,
   "id": "a1e565ca-5aba-467f-bfd7-c96035b3c762",
   "metadata": {},
   "outputs": [],
   "source": [
    "# legit_features = []\n",
    "# feature_names = ['has_ip_address', 'length', 'checkAtSign', 'calc_domain_age', 'check_shortening','check_for_iframe', 'check_for_bar_manipulation','check_for_right_click_disabled', 'forwarding', 'label']\n",
    "# for i in range(710, 2000):\n",
    "#     url = legit[\"url\"][i]\n",
    "#     legit_features.append(featureExtraction(url,0))\n",
    "#     print(i)\n",
    "#     legit_final = pd.DataFrame(legit_features, columns= feature_names)"
   ]
  },
  {
   "cell_type": "code",
   "execution_count": 24,
   "id": "612f1a1c-1b04-432c-9ea2-7809b6585811",
   "metadata": {},
   "outputs": [],
   "source": [
    "import csv\n",
    "def concatenate_csv_files(input_files, output_file):\n",
    "    with open(output_file, 'w', newline='') as outfile:\n",
    "        writer = csv.writer(outfile)\n",
    "\n",
    "        # Iterate over each input file\n",
    "        for input_file in input_files:\n",
    "            with open(input_file, 'r', newline='') as infile:\n",
    "                reader = csv.reader(infile)\n",
    "                # Write each row from the input file to the output file\n",
    "                for row in reader:\n",
    "                    writer.writerow(row)"
   ]
  },
  {
   "cell_type": "code",
   "execution_count": 25,
   "id": "9b8a2367-262e-466a-b5cb-b78fc842ba21",
   "metadata": {},
   "outputs": [],
   "source": [
    "input_files = ['legit_features_file.csv', 'phish_features_file.csv']\n",
    "output_file = 'urldata.csv'\n",
    "concatenate_csv_files(input_files, output_file)"
   ]
  },
  {
   "cell_type": "code",
   "execution_count": 28,
   "id": "fee5ea22-4625-4351-bf82-81ea08bb7d1a",
   "metadata": {},
   "outputs": [],
   "source": [
    "urldata = pd.read_csv(\"urldata.csv\")"
   ]
  },
  {
   "cell_type": "code",
   "execution_count": 29,
   "id": "f5969420-8686-48b6-8af5-9b3de47f8759",
   "metadata": {},
   "outputs": [
    {
     "data": {
      "text/html": [
       "<div>\n",
       "<style scoped>\n",
       "    .dataframe tbody tr th:only-of-type {\n",
       "        vertical-align: middle;\n",
       "    }\n",
       "\n",
       "    .dataframe tbody tr th {\n",
       "        vertical-align: top;\n",
       "    }\n",
       "\n",
       "    .dataframe thead th {\n",
       "        text-align: right;\n",
       "    }\n",
       "</style>\n",
       "<table border=\"1\" class=\"dataframe\">\n",
       "  <thead>\n",
       "    <tr style=\"text-align: right;\">\n",
       "      <th></th>\n",
       "      <th>has_ip_address</th>\n",
       "      <th>length</th>\n",
       "      <th>checkAtSign</th>\n",
       "      <th>calc_domain_age</th>\n",
       "      <th>check_shortening</th>\n",
       "      <th>check_for_iframe</th>\n",
       "      <th>check_for_bar_manipulation</th>\n",
       "      <th>check_for_right_click_disabled</th>\n",
       "      <th>forwarding</th>\n",
       "      <th>label</th>\n",
       "    </tr>\n",
       "  </thead>\n",
       "  <tbody>\n",
       "    <tr>\n",
       "      <th>0</th>\n",
       "      <td>0</td>\n",
       "      <td>0</td>\n",
       "      <td>0</td>\n",
       "      <td>0</td>\n",
       "      <td>0</td>\n",
       "      <td>1</td>\n",
       "      <td>1.0</td>\n",
       "      <td>1</td>\n",
       "      <td>1</td>\n",
       "      <td>0</td>\n",
       "    </tr>\n",
       "    <tr>\n",
       "      <th>1</th>\n",
       "      <td>0</td>\n",
       "      <td>0</td>\n",
       "      <td>0</td>\n",
       "      <td>0</td>\n",
       "      <td>0</td>\n",
       "      <td>1</td>\n",
       "      <td>1.0</td>\n",
       "      <td>1</td>\n",
       "      <td>1</td>\n",
       "      <td>0</td>\n",
       "    </tr>\n",
       "    <tr>\n",
       "      <th>2</th>\n",
       "      <td>0</td>\n",
       "      <td>1</td>\n",
       "      <td>0</td>\n",
       "      <td>0</td>\n",
       "      <td>0</td>\n",
       "      <td>0</td>\n",
       "      <td>0.0</td>\n",
       "      <td>0</td>\n",
       "      <td>0</td>\n",
       "      <td>0</td>\n",
       "    </tr>\n",
       "    <tr>\n",
       "      <th>3</th>\n",
       "      <td>0</td>\n",
       "      <td>0</td>\n",
       "      <td>0</td>\n",
       "      <td>0</td>\n",
       "      <td>0</td>\n",
       "      <td>1</td>\n",
       "      <td>1.0</td>\n",
       "      <td>1</td>\n",
       "      <td>1</td>\n",
       "      <td>0</td>\n",
       "    </tr>\n",
       "    <tr>\n",
       "      <th>4</th>\n",
       "      <td>0</td>\n",
       "      <td>0</td>\n",
       "      <td>0</td>\n",
       "      <td>0</td>\n",
       "      <td>1</td>\n",
       "      <td>1</td>\n",
       "      <td>1.0</td>\n",
       "      <td>1</td>\n",
       "      <td>1</td>\n",
       "      <td>0</td>\n",
       "    </tr>\n",
       "  </tbody>\n",
       "</table>\n",
       "</div>"
      ],
      "text/plain": [
       "  has_ip_address length checkAtSign calc_domain_age check_shortening  \\\n",
       "0              0      0           0               0                0   \n",
       "1              0      0           0               0                0   \n",
       "2              0      1           0               0                0   \n",
       "3              0      0           0               0                0   \n",
       "4              0      0           0               0                1   \n",
       "\n",
       "  check_for_iframe check_for_bar_manipulation check_for_right_click_disabled  \\\n",
       "0                1                        1.0                              1   \n",
       "1                1                        1.0                              1   \n",
       "2                0                        0.0                              0   \n",
       "3                1                        1.0                              1   \n",
       "4                1                        1.0                              1   \n",
       "\n",
       "  forwarding label  \n",
       "0          1     0  \n",
       "1          1     0  \n",
       "2          0     0  \n",
       "3          1     0  \n",
       "4          1     0  "
      ]
     },
     "execution_count": 29,
     "metadata": {},
     "output_type": "execute_result"
    }
   ],
   "source": [
    "urldata.head()"
   ]
  },
  {
   "cell_type": "code",
   "execution_count": 30,
   "id": "2d58ec1f-5f93-430a-85b2-ac3f54c4e47e",
   "metadata": {},
   "outputs": [
    {
     "data": {
      "text/html": [
       "<div>\n",
       "<style scoped>\n",
       "    .dataframe tbody tr th:only-of-type {\n",
       "        vertical-align: middle;\n",
       "    }\n",
       "\n",
       "    .dataframe tbody tr th {\n",
       "        vertical-align: top;\n",
       "    }\n",
       "\n",
       "    .dataframe thead th {\n",
       "        text-align: right;\n",
       "    }\n",
       "</style>\n",
       "<table border=\"1\" class=\"dataframe\">\n",
       "  <thead>\n",
       "    <tr style=\"text-align: right;\">\n",
       "      <th></th>\n",
       "      <th>has_ip_address</th>\n",
       "      <th>length</th>\n",
       "      <th>checkAtSign</th>\n",
       "      <th>calc_domain_age</th>\n",
       "      <th>check_shortening</th>\n",
       "      <th>check_for_iframe</th>\n",
       "      <th>check_for_bar_manipulation</th>\n",
       "      <th>check_for_right_click_disabled</th>\n",
       "      <th>forwarding</th>\n",
       "      <th>label</th>\n",
       "    </tr>\n",
       "  </thead>\n",
       "  <tbody>\n",
       "    <tr>\n",
       "      <th>3997</th>\n",
       "      <td>0</td>\n",
       "      <td>1</td>\n",
       "      <td>0</td>\n",
       "      <td>0</td>\n",
       "      <td>0</td>\n",
       "      <td>0</td>\n",
       "      <td>0.0</td>\n",
       "      <td>0.0</td>\n",
       "      <td>0</td>\n",
       "      <td>1</td>\n",
       "    </tr>\n",
       "    <tr>\n",
       "      <th>3998</th>\n",
       "      <td>0</td>\n",
       "      <td>1</td>\n",
       "      <td>0</td>\n",
       "      <td>0</td>\n",
       "      <td>1</td>\n",
       "      <td>1</td>\n",
       "      <td>1.0</td>\n",
       "      <td>1.0</td>\n",
       "      <td>1</td>\n",
       "      <td>1</td>\n",
       "    </tr>\n",
       "    <tr>\n",
       "      <th>3999</th>\n",
       "      <td>0</td>\n",
       "      <td>1</td>\n",
       "      <td>0</td>\n",
       "      <td>0</td>\n",
       "      <td>1</td>\n",
       "      <td>0</td>\n",
       "      <td>0.0</td>\n",
       "      <td>0.0</td>\n",
       "      <td>0</td>\n",
       "      <td>1</td>\n",
       "    </tr>\n",
       "    <tr>\n",
       "      <th>4000</th>\n",
       "      <td>0</td>\n",
       "      <td>1</td>\n",
       "      <td>0</td>\n",
       "      <td>0</td>\n",
       "      <td>1</td>\n",
       "      <td>1</td>\n",
       "      <td>1.0</td>\n",
       "      <td>1.0</td>\n",
       "      <td>1</td>\n",
       "      <td>1</td>\n",
       "    </tr>\n",
       "    <tr>\n",
       "      <th>4001</th>\n",
       "      <td>0</td>\n",
       "      <td>1</td>\n",
       "      <td>0</td>\n",
       "      <td>0</td>\n",
       "      <td>1</td>\n",
       "      <td>1</td>\n",
       "      <td>1.0</td>\n",
       "      <td>1.0</td>\n",
       "      <td>1</td>\n",
       "      <td>1</td>\n",
       "    </tr>\n",
       "  </tbody>\n",
       "</table>\n",
       "</div>"
      ],
      "text/plain": [
       "     has_ip_address length checkAtSign calc_domain_age check_shortening  \\\n",
       "3997              0      1           0               0                0   \n",
       "3998              0      1           0               0                1   \n",
       "3999              0      1           0               0                1   \n",
       "4000              0      1           0               0                1   \n",
       "4001              0      1           0               0                1   \n",
       "\n",
       "     check_for_iframe check_for_bar_manipulation  \\\n",
       "3997                0                        0.0   \n",
       "3998                1                        1.0   \n",
       "3999                0                        0.0   \n",
       "4000                1                        1.0   \n",
       "4001                1                        1.0   \n",
       "\n",
       "     check_for_right_click_disabled forwarding label  \n",
       "3997                            0.0          0     1  \n",
       "3998                            1.0          1     1  \n",
       "3999                            0.0          0     1  \n",
       "4000                            1.0          1     1  \n",
       "4001                            1.0          1     1  "
      ]
     },
     "execution_count": 30,
     "metadata": {},
     "output_type": "execute_result"
    }
   ],
   "source": [
    "urldata.tail()"
   ]
  },
  {
   "cell_type": "code",
   "execution_count": null,
   "id": "85673aa0-8498-4358-a4e0-41e5168f6f17",
   "metadata": {},
   "outputs": [],
   "source": []
  }
 ],
 "metadata": {
  "kernelspec": {
   "display_name": "Python 3 (ipykernel)",
   "language": "python",
   "name": "python3"
  },
  "language_info": {
   "codemirror_mode": {
    "name": "ipython",
    "version": 3
   },
   "file_extension": ".py",
   "mimetype": "text/x-python",
   "name": "python",
   "nbconvert_exporter": "python",
   "pygments_lexer": "ipython3",
   "version": "3.11.7"
  }
 },
 "nbformat": 4,
 "nbformat_minor": 5
}
